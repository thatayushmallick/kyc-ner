{
  "metadata": {
    "kernelspec": {
      "language": "python",
      "display_name": "Python 3",
      "name": "python3"
    },
    "language_info": {
      "name": "python",
      "version": "3.11.11",
      "mimetype": "text/x-python",
      "codemirror_mode": {
        "name": "ipython",
        "version": 3
      },
      "pygments_lexer": "ipython3",
      "nbconvert_exporter": "python",
      "file_extension": ".py"
    },
    "kaggle": {
      "accelerator": "none",
      "dataSources": [
        {
          "sourceId": 11547433,
          "sourceType": "datasetVersion",
          "datasetId": 7056314
        },
        {
          "sourceId": 11849120,
          "sourceType": "datasetVersion",
          "datasetId": 7445217
        },
        {
          "sourceId": 11850679,
          "sourceType": "datasetVersion",
          "datasetId": 7446343
        }
      ],
      "dockerImageVersionId": 31040,
      "isInternetEnabled": true,
      "language": "python",
      "sourceType": "notebook",
      "isGpuEnabled": false
    },
    "colab": {
      "provenance": []
    }
  },
  "nbformat_minor": 0,
  "nbformat": 4,
  "cells": [
    {
      "cell_type": "code",
      "source": [
        "# install packages if not installed\n",
        "!pip install -q kagglehub\n",
        "!pip install pytesseract\n",
        "\n",
        "# import libraries\n",
        "import kagglehub\n",
        "import os\n",
        "import pandas as pd\n",
        "import numpy as np\n",
        "import cv2 as cv\n",
        "import json\n",
        "import shutil\n",
        "import pytesseract\n",
        "import matplotlib.pyplot as plt\n",
        "import spacy\n",
        "import re\n",
        "import numpy as np\n",
        "from PIL import Image\n"
      ],
      "metadata": {
        "colab": {
          "base_uri": "https://localhost:8080/"
        },
        "id": "eKA-I1UUiOb6",
        "outputId": "492ae1ca-ae7e-4491-f7be-c14977247898"
      },
      "execution_count": 1,
      "outputs": [
        {
          "output_type": "stream",
          "name": "stdout",
          "text": [
            "Collecting pytesseract\n",
            "  Downloading pytesseract-0.3.13-py3-none-any.whl.metadata (11 kB)\n",
            "Requirement already satisfied: packaging>=21.3 in /usr/local/lib/python3.11/dist-packages (from pytesseract) (24.2)\n",
            "Requirement already satisfied: Pillow>=8.0.0 in /usr/local/lib/python3.11/dist-packages (from pytesseract) (11.2.1)\n",
            "Downloading pytesseract-0.3.13-py3-none-any.whl (14 kB)\n",
            "Installing collected packages: pytesseract\n",
            "Successfully installed pytesseract-0.3.13\n"
          ]
        }
      ]
    },
    {
      "cell_type": "code",
      "source": [
        "# download dataset using kagglehub\n",
        "path = kagglehub.dataset_download('senju14/ocr-dataset-of-multi-type-documents')\n",
        "\n",
        "print(f\"OCR Dataset Path: {path}\")\n",
        "\n",
        "# move dataset to /content for easy visibility\n",
        "ocr_dataset = '/content/ocr_dataset'\n",
        "\n",
        "shutil.copytree(path, ocr_dataset, dirs_exist_ok=True)\n",
        "\n",
        "print(\"Datasets moved to /content/\")\n",
        "\n",
        "# list files in dataset\n",
        "print(\"\\nFiles in OCR Dataset:\")\n",
        "\n",
        "!ls /content/ocr_dataset\n"
      ],
      "metadata": {
        "colab": {
          "base_uri": "https://localhost:8080/"
        },
        "id": "c1sjivD8Of_A",
        "outputId": "51a87894-fe88-4abe-9a8d-fdaaf7024863"
      },
      "execution_count": 2,
      "outputs": [
        {
          "output_type": "stream",
          "name": "stdout",
          "text": [
            "Downloading from https://www.kaggle.com/api/v1/datasets/download/senju14/ocr-dataset-of-multi-type-documents?dataset_version_number=3...\n"
          ]
        },
        {
          "output_type": "stream",
          "name": "stderr",
          "text": [
            "100%|██████████| 5.16G/5.16G [00:53<00:00, 104MB/s]"
          ]
        },
        {
          "output_type": "stream",
          "name": "stdout",
          "text": [
            "Extracting files...\n"
          ]
        },
        {
          "output_type": "stream",
          "name": "stderr",
          "text": [
            "\n"
          ]
        },
        {
          "output_type": "stream",
          "name": "stdout",
          "text": [
            "OCR Dataset Path: /root/.cache/kagglehub/datasets/senju14/ocr-dataset-of-multi-type-documents/versions/3\n",
            "Datasets moved to /content/\n",
            "\n",
            "Files in OCR Dataset:\n",
            "document  form\tinvoice  real_life\n"
          ]
        }
      ]
    },
    {
      "cell_type": "code",
      "source": [
        "!python -m spacy download en_core_web_lg"
      ],
      "metadata": {
        "colab": {
          "base_uri": "https://localhost:8080/"
        },
        "id": "zoREsflIt200",
        "outputId": "5dfdf9ee-883e-43cf-cff5-a8c82cc02665"
      },
      "execution_count": 3,
      "outputs": [
        {
          "output_type": "stream",
          "name": "stdout",
          "text": [
            "Collecting en-core-web-lg==3.8.0\n",
            "  Downloading https://github.com/explosion/spacy-models/releases/download/en_core_web_lg-3.8.0/en_core_web_lg-3.8.0-py3-none-any.whl (400.7 MB)\n",
            "\u001b[2K     \u001b[90m━━━━━━━━━━━━━━━━━━━━━━━━━━━━━━━━━━━━━━━\u001b[0m \u001b[32m400.7/400.7 MB\u001b[0m \u001b[31m3.7 MB/s\u001b[0m eta \u001b[36m0:00:00\u001b[0m\n",
            "\u001b[?25hInstalling collected packages: en-core-web-lg\n",
            "Successfully installed en-core-web-lg-3.8.0\n",
            "\u001b[38;5;2m✔ Download and installation successful\u001b[0m\n",
            "You can now load the package via spacy.load('en_core_web_lg')\n",
            "\u001b[38;5;3m⚠ Restart to reload dependencies\u001b[0m\n",
            "If you are in a Jupyter or Colab notebook, you may need to restart Python in\n",
            "order to load all the package's dependencies. You can do this by selecting the\n",
            "'Restart kernel' or 'Restart runtime' option.\n"
          ]
        }
      ]
    },
    {
      "cell_type": "code",
      "source": [
        "nlp = spacy.load(\"en_core_web_lg\")\n",
        "\n",
        "def extract_aadhar(image):\n",
        "\n",
        "    # ocr from image\n",
        "    text = pytesseract.image_to_string(image)\n",
        "\n",
        "    # run spacy ner\n",
        "    doc = nlp(text)\n",
        "\n",
        "    # initialize fields\n",
        "    name = dob = aadhar_number = address = None\n",
        "\n",
        "    # extract entities from spacy ner\n",
        "    for ent in doc.ents:\n",
        "        label = ent.label_.upper()\n",
        "        if label in [\"NAME\", \"PERSON\"] and name is None:\n",
        "            name = ent.text.strip()\n",
        "        elif label in [\"DOB\"] and dob is None:\n",
        "            dob = ent.text.strip()\n",
        "        elif label in [\"AADHAAR\", \"AADHAR\", \"CARD_NO\", \"CARDNUMBER\"] and aadhar_number is None:\n",
        "            aadhar_number = ent.text.strip()\n",
        "        elif label in [\"ADDRESS\", \"LOC\"] and address is None:\n",
        "            address = ent.text.strip()\n",
        "\n",
        "    # fallback using regex\n",
        "    if not name:\n",
        "        m = re.search(r'([A-Z][a-z]+(?:\\s+[A-Z][a-z]+)?)', text)\n",
        "        name = m.group(1) if m else None\n",
        "\n",
        "    if not aadhar_number:\n",
        "        match = re.search(r\"\\b\\d{4}\\s\\d{4}\\s\\d{4}\\b\", text)\n",
        "        aadhar_number = match.group(0) if match else None\n",
        "\n",
        "    if not dob:\n",
        "        match = re.search(r\"\\b\\d{2}/\\d{2}/\\d{4}\\b\", text)\n",
        "        dob = match.group(0) if match else None\n",
        "\n",
        "    if not address:\n",
        "      lines = [line.strip() for line in text.splitlines() if line.strip()]\n",
        "\n",
        "      address_start = next((i for i, line in enumerate(lines) if re.search(r'(?i)\\bAddress\\b', line)), None)\n",
        "\n",
        "      address_lines = []\n",
        "      if address_start is not None:\n",
        "          for line in lines[address_start + 1:]:\n",
        "              address_lines.append(line)\n",
        "              if re.search(r\"\\b\\d{6}\\b\", line):\n",
        "                  break\n",
        "          address = \" \".join(address_lines).strip() if address_lines else None\n",
        "      else:\n",
        "          address = None\n",
        "\n",
        "    return {\n",
        "        \"Name\": name,\n",
        "        \"DOB\": dob,\n",
        "        \"Aadhar Number\": aadhar_number,\n",
        "        \"Address\": address,\n",
        "    }"
      ],
      "metadata": {
        "trusted": true,
        "execution": {
          "iopub.status.busy": "2025-05-17T17:24:45.526169Z",
          "iopub.execute_input": "2025-05-17T17:24:45.526548Z",
          "iopub.status.idle": "2025-05-17T17:24:45.537795Z",
          "shell.execute_reply.started": "2025-05-17T17:24:45.526522Z",
          "shell.execute_reply": "2025-05-17T17:24:45.536861Z"
        },
        "id": "1jbw6hsSDst9"
      },
      "outputs": [],
      "execution_count": 7
    },
    {
      "cell_type": "code",
      "source": [
        "aadhar_path='/content/test2.jpg'\n",
        "aadhar_img=Image.open(aadhar_path)\n",
        "ocr_result=pytesseract.image_to_string(aadhar_img)\n",
        "print(ocr_result)\n"
      ],
      "metadata": {
        "trusted": true,
        "execution": {
          "iopub.status.busy": "2025-05-17T17:11:06.757702Z",
          "iopub.execute_input": "2025-05-17T17:11:06.758655Z",
          "iopub.status.idle": "2025-05-17T17:11:08.338363Z",
          "shell.execute_reply.started": "2025-05-17T17:11:06.758619Z",
          "shell.execute_reply": "2025-05-17T17:11:08.337353Z"
        },
        "colab": {
          "base_uri": "https://localhost:8080/"
        },
        "id": "t9Zwlno9Dst8",
        "outputId": "f3f3a191-8b18-4991-aee0-004ab42bd44f"
      },
      "outputs": [
        {
          "output_type": "stream",
          "name": "stdout",
          "text": [
            " \n",
            "\n",
            "  \n",
            " \n",
            " \n",
            "    \n",
            "     \n",
            " \n",
            " \n",
            "    \n",
            " \n",
            "  \n",
            "\n",
            "HNA OAT\n",
            "Government of India\n",
            "verre aidrde wets\n",
            "Prakash Gopichand Rathod\n",
            "sen artra / DOB : 01/07/1974\n",
            "get / Male\n",
            "\n",
            "Unique Identification Authority of India\n",
            "\n",
            "Ocal Address:\n",
            "\n",
            "S/O: aitrag wels, wa - 14, S/O: Gopichand Rathod, Sr\n",
            "\n",
            "ars a- 3, Waa, Sena Fictat No-14, Ward No-3, Ramnagar,\n",
            "\n",
            "Us, arefaara Het Haw, Arasr, Deccan Collage Road, Near\n",
            "\n",
            "or wet, Aas, 7, AEN, Balvikas Kendra, Yerwada, Pune\n",
            "\n",
            "411006 City, Yerwada, Pune,\n",
            "Maharashtra, 411006\n",
            "\n",
            "  \n",
            " \n",
            "\n",
            "8538 7535 4900\n",
            "x\n",
            "\n",
            "1947\n",
            "1800 300 1947 help @uldai.gov.in www.uidai.gov.\n",
            "\n",
            "  \n",
            "\n",
            " \n",
            "\f\n"
          ]
        }
      ],
      "execution_count": 12
    },
    {
      "cell_type": "code",
      "source": [
        "from PIL import Image\n",
        "from IPython.display import JSON, display\n",
        "\n",
        "data = extract_aadhar(aadhar_img)\n",
        "\n",
        "display(JSON(data))\n",
        "\n",
        "with open('aadhaar_extraction.json', 'w') as f:\n",
        "    json.dump(data, f, indent=2)"
      ],
      "metadata": {
        "trusted": true,
        "execution": {
          "iopub.status.busy": "2025-05-17T18:33:36.84019Z",
          "iopub.execute_input": "2025-05-17T18:33:36.841159Z",
          "iopub.status.idle": "2025-05-17T18:33:38.636577Z",
          "shell.execute_reply.started": "2025-05-17T18:33:36.841121Z",
          "shell.execute_reply": "2025-05-17T18:33:38.635811Z"
        },
        "colab": {
          "base_uri": "https://localhost:8080/",
          "height": 139
        },
        "id": "MNb0iBQpDst9",
        "outputId": "6f8679c0-2388-47cc-af85-685958bb2993"
      },
      "outputs": [
        {
          "output_type": "display_data",
          "data": {
            "text/plain": [
              "<IPython.core.display.JSON object>"
            ],
            "application/json": {
              "Name": "Prakash Gopichand Rathod\nsen",
              "DOB": "01/07/1974",
              "Aadhar Number": "8538 7535 4900",
              "Address": "S/O: aitrag wels, wa - 14, S/O: Gopichand Rathod, Sr ars a- 3, Waa, Sena Fictat No-14, Ward No-3, Ramnagar, Us, arefaara Het Haw, Arasr, Deccan Collage Road, Near or wet, Aas, 7, AEN, Balvikas Kendra, Yerwada, Pune 411006 City, Yerwada, Pune,"
            }
          },
          "metadata": {
            "application/json": {
              "expanded": false,
              "root": "root"
            }
          }
        }
      ],
      "execution_count": 13
    }
  ]
}